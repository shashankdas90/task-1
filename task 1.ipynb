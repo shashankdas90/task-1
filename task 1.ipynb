{
 "cells": [
  {
   "cell_type": "code",
   "execution_count": 1,
   "id": "d5ff72f3-6305-423a-88c6-30e3c14bbc9b",
   "metadata": {},
   "outputs": [
    {
     "name": "stdout",
     "output_type": "stream",
     "text": [
      "updated list: [20, 2, 3, 5, 6, 8]\n"
     ]
    }
   ],
   "source": [
    "#creating a list \n",
    "my_list = [ 1,2,3,4,5,6]\n",
    "\n",
    "#adding an element to the list \n",
    "my_list.append (8)\n",
    "\n",
    "#removing an element from the list \n",
    "my_list.remove (4)\n",
    "\n",
    "#modifying an element\n",
    "my_list [0] = 20\n",
    "\n",
    "print (\"updated list:\" , my_list)"
   ]
  },
  {
   "cell_type": "code",
   "execution_count": 2,
   "id": "5863e476-c108-48c0-afa0-d4b7a709bfff",
   "metadata": {},
   "outputs": [
    {
     "name": "stdout",
     "output_type": "stream",
     "text": [
      "udpated Dictionary: {'name': 'shashank', 'age': 20, 'city': 'Baleswar', 'gender': 'Male'}\n"
     ]
    }
   ],
   "source": [
    "#creating dictionary\n",
    "my_dict = {'name': 'shashank', 'age': 20, 'city': 'bhadrak' }\n",
    "\n",
    "#adding\n",
    "my_dict[ 'gender' ] = 'Male'\n",
    "\n",
    "#removing \n",
    "my_dict[ 'age' ] \n",
    "\n",
    "#modifying\n",
    "my_dict[ 'city' ] = 'Baleswar'\n",
    "\n",
    "print(\"udpated Dictionary:\" , my_dict)"
   ]
  },
  {
   "cell_type": "code",
   "execution_count": 3,
   "id": "161af37f-8472-4d1d-a2ca-5f440ebf4db4",
   "metadata": {},
   "outputs": [
    {
     "name": "stdout",
     "output_type": "stream",
     "text": [
      "updated set: {'cat', 'hen', 'pecock', 'ant', 'monky'}\n"
     ]
    }
   ],
   "source": [
    "#creating a set \n",
    "my_set = { 'cat', 'dog', 'donky', 'monky', 'hen'}\n",
    "\n",
    "#adding \n",
    "my_set.add('pecock')\n",
    "\n",
    "#removing\n",
    "my_set.remove('dog')\n",
    "\n",
    "#modifying\n",
    "my_set.discard('donky')\n",
    "my_set.add('ant')\n",
    "\n",
    "print(\"updated set:\" , my_set)"
   ]
  },
  {
   "cell_type": "code",
   "execution_count": null,
   "id": "fdce7e6e-a506-4636-b6db-ee52ba68983f",
   "metadata": {},
   "outputs": [],
   "source": []
  }
 ],
 "metadata": {
  "kernelspec": {
   "display_name": "Python 3 (ipykernel)",
   "language": "python",
   "name": "python3"
  },
  "language_info": {
   "codemirror_mode": {
    "name": "ipython",
    "version": 3
   },
   "file_extension": ".py",
   "mimetype": "text/x-python",
   "name": "python",
   "nbconvert_exporter": "python",
   "pygments_lexer": "ipython3",
   "version": "3.12.3"
  }
 },
 "nbformat": 4,
 "nbformat_minor": 5
}
